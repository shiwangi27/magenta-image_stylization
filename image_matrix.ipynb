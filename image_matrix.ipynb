{
 "cells": [
  {
   "cell_type": "code",
   "execution_count": 7,
   "metadata": {
    "collapsed": false
   },
   "outputs": [],
   "source": [
    "import matplotlib.pyplot as plt\n",
    "from PIL import Image"
   ]
  },
  {
   "cell_type": "code",
   "execution_count": 25,
   "metadata": {
    "collapsed": false
   },
   "outputs": [],
   "source": [
    "%matplotlib inline\n",
    "#plt.imshow(im)\n",
    "\n",
    "plt.figure(figsize=(20, 25))\n",
    "plt.title('32 Artistic Styles : pre-trained Varied model')\n",
    "for i in range(30):\n",
    "    plt.subplot(6,5, i+1)\n",
    "    plt.axis('off')\n",
    "    im = Image.open('shiwangi/shiwangi_'+str(i)+'.png')\n",
    "    plt.imshow(im)\n",
    "    plt.savefig('stylized_32images.png', bbox_inches='tight', pad_inches = 0)\n",
    "plt.close()\n"
   ]
  },
  {
   "cell_type": "code",
   "execution_count": null,
   "metadata": {
    "collapsed": true
   },
   "outputs": [],
   "source": []
  }
 ],
 "metadata": {
  "kernelspec": {
   "display_name": "Python 3",
   "language": "python",
   "name": "python3"
  },
  "language_info": {
   "codemirror_mode": {
    "name": "ipython",
    "version": 3
   },
   "file_extension": ".py",
   "mimetype": "text/x-python",
   "name": "python",
   "nbconvert_exporter": "python",
   "pygments_lexer": "ipython3",
   "version": "3.5.1"
  }
 },
 "nbformat": 4,
 "nbformat_minor": 0
}
